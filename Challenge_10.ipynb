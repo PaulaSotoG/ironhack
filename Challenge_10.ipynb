{
 "cells": [
  {
   "cell_type": "markdown",
   "metadata": {},
   "source": [
    "# Probability"
   ]
  },
  {
   "cell_type": "markdown",
   "metadata": {},
   "source": [
    "## Reto 1\n",
    "Hay una caja con 10 bolas blancas, 12 bolas rojas y 8 bolas negras. Calcula la probabilidad de:\n",
    "* Sacar una bola blanca.\n",
    "* Sacar una bola blanca en la primera extracción y una bola negra en la segunda extracción sin reemplazar la primera.\n",
    "* Sacar una bola blanca en la primera extracción y una bola negra en la segunda extracción reemplazando la primera.\n",
    "* Sacar 3 bolas y que sean todas de diferentes colores."
   ]
  },
  {
   "cell_type": "code",
   "execution_count": 3,
   "metadata": {},
   "outputs": [
    {
     "data": {
      "text/plain": [
       "0.3333333333333333"
      ]
     },
     "execution_count": 3,
     "metadata": {},
     "output_type": "execute_result"
    }
   ],
   "source": [
    "# YOUR CODE HERE\n",
    "# Sacar una bola blanca.\n",
    "10 / 30"
   ]
  },
  {
   "cell_type": "code",
   "execution_count": 5,
   "metadata": {},
   "outputs": [
    {
     "data": {
      "text/plain": [
       "0.09195402298850575"
      ]
     },
     "execution_count": 5,
     "metadata": {},
     "output_type": "execute_result"
    }
   ],
   "source": [
    "# Sacar una bola blanca en la primera extracción y una bola negra en la segunda extracción sin reemplazar la primera.\n",
    "(10/30) * (8/29)"
   ]
  },
  {
   "cell_type": "code",
   "execution_count": 8,
   "metadata": {},
   "outputs": [
    {
     "data": {
      "text/plain": [
       "0.08888888888888888"
      ]
     },
     "execution_count": 8,
     "metadata": {},
     "output_type": "execute_result"
    }
   ],
   "source": [
    "# Sacar una bola blanca en la primera extracción y una bola negra en la segunda extracción reemplazando la primera.\n",
    "(10/30) * (8/30)"
   ]
  },
  {
   "cell_type": "code",
   "execution_count": 12,
   "metadata": {},
   "outputs": [
    {
     "data": {
      "text/plain": [
       "0.23645320197044334"
      ]
     },
     "execution_count": 12,
     "metadata": {},
     "output_type": "execute_result"
    }
   ],
   "source": [
    "# Sacar 3 bolas y que sean todas de diferentes colores.\n",
    "from math import comb\n",
    "\n",
    "n_b = 10\n",
    "n_r = 12\n",
    "n_n = 8\n",
    "k = 1\n",
    "k_total = 3\n",
    "combinaciones_b = comb(n_b, k)\n",
    "combinaciones_r = comb(n_r, k)\n",
    "combinaciones_n = comb(n_n, k)\n",
    "combinaciones_total = comb(30, k_total)\n",
    "\n",
    "comb_tres_dif = combinaciones_b * combinaciones_r * combinaciones_n\n",
    "\n",
    "p_tres_dif = comb_tres_dif / combinaciones_total\n",
    "p_tres_dif"
   ]
  },
  {
   "cell_type": "markdown",
   "metadata": {},
   "source": [
    "## Reto 2\n",
    "\n",
    "Quieres ir de picnic el sábado. Odias la lluvia y quieres planificar tu fin de semana. Para ayudarte a tomar una decisión, recopilas los siguientes datos sobre los días lluviosos:\n",
    "\n",
    "* El 40% de todos los días están nublados.\n",
    "* Aproximadamente el 50% de los días nublados son lluviosos.\n",
    "* Aproximadamente el 20% de los días no nublados son lluviosos.\n",
    "\n",
    "¿Cuál es la probabilidad de que llueva el próximo sábado?"
   ]
  },
  {
   "cell_type": "code",
   "execution_count": 21,
   "metadata": {},
   "outputs": [
    {
     "data": {
      "text/plain": [
       "0.32"
      ]
     },
     "execution_count": 21,
     "metadata": {},
     "output_type": "execute_result"
    }
   ],
   "source": [
    "# YOUR CODE HERE\n",
    "p_dias_nublado_lluvia = 0.4 * 0.5\n",
    "p_dias_no_nublado_lluvia = 0.2\n",
    "p_dias_no_nublado = 1 - 0.4\n",
    "\n",
    "p_lluvia = p_dias_nublado_lluvia + (p_dias_no_nublado_lluvia * p_dias_no_nublado)\n",
    "p_lluvia"
   ]
  },
  {
   "cell_type": "markdown",
   "metadata": {},
   "source": [
    "## Reto 3\n",
    "\n",
    "A y B son eventos de una probabilidad tal que \\(P(A) = 0.3\\), \\(P(B) = 0.6\\) y \\(P(A \\cap B) = 0.1\\)\n",
    "\n",
    "¿Cuáles de las siguientes afirmaciones son verdaderas?\n",
    "**SUGERENCIA: dibuja un gran diagrama de Venn a tu lado**\n",
    "* \\(P(\\overline{A}) = 0.7\\)\n",
    "* \\(P(A \\cup B) = 0.6\\)\n",
    "* \\(P(A \\cap \\overline{B}) = 0.2\\)\n",
    "* \\(P(A \\cup \\overline{A}) = 1\\)  \n",
    "* \\(P(A \\cap (B \\cup \\overline{B})) = 0.4\\)\n",
    "* \\(P(\\overline{A} \\cap \\overline{B}) = 0.3\\)\n",
    "* \\(P(\\overline{A \\cap B}) = 0.9\\)"
   ]
  },
  {
   "cell_type": "code",
   "execution_count": 35,
   "metadata": {
    "scrolled": true
   },
   "outputs": [
    {
     "name": "stdout",
     "output_type": "stream",
     "text": [
      "P(A) = 0.3\n",
      "P(Ac) = 0.7\n",
      "P(B) = 0.6\n",
      "P(Bc) = 0.4\n",
      "P(A ∩ Bc) = 0.2\n",
      "P(B ∩ Ac) = 0.5\n",
      "P(Ac ∩ Bc) = 0.2\n",
      "P(c(A ∩ B)) = 0.9\n"
     ]
    }
   ],
   "source": [
    "# YOUR CODE HERE\n",
    "# Definición de probabilidades\n",
    "pA = 0.3                 # P(A)\n",
    "pB = 0.6                 # P(B)\n",
    "pAiB = 0.1        # P(A ∩ B)\n",
    "\n",
    "# Cálculos de probabilidades\n",
    "pAc = 1 - pA                       # P(Ac)\n",
    "pBc = 1 - pB                       # P(Bc)\n",
    "\n",
    "pAiBc = pA - pAiB       # P(A ∩ Bc)\n",
    "pAiBc = round(pAiBc, 2)\n",
    "pBiAc = pB - pAiB       # P(B ∩ Ac)\n",
    "pAciBc = 1 - (pA + pB - pAiB)  # P(Ac ∩ Bc)\n",
    "pAciBc = round(pAciBc, 2) # P(Ac ∩ Bc)\n",
    "pcAiB = 1 - pAiB       # P(c(A ∩ B))\n",
    "\n",
    "# Imprimir resultados\n",
    "print(f\"P(A) = {pA}\")\n",
    "print(f\"P(Ac) = {pAc}\")\n",
    "print(f\"P(B) = {pB}\")\n",
    "print(f\"P(Bc) = {pBc}\")\n",
    "print(f\"P(A ∩ Bc) = {pAiBc}\")\n",
    "print(f\"P(B ∩ Ac) = {pBiAc}\")\n",
    "print(f\"P(Ac ∩ Bc) = {pAciBc}\")\n",
    "print(f\"P(c(A ∩ B)) = {pcAiB}\")"
   ]
  },
  {
   "cell_type": "code",
   "execution_count": 41,
   "metadata": {},
   "outputs": [],
   "source": [
    "assert pAc == 0.7, f\"1. Statement False, pAc = {pAc}\""
   ]
  },
  {
   "cell_type": "code",
   "execution_count": 43,
   "metadata": {},
   "outputs": [
    {
     "ename": "AssertionError",
     "evalue": "2. Statement False, pAuB = 0.8",
     "output_type": "error",
     "traceback": [
      "\u001b[0;31m---------------------------------------------------------------------------\u001b[0m",
      "\u001b[0;31mAssertionError\u001b[0m                            Traceback (most recent call last)",
      "Cell \u001b[0;32mIn[43], line 2\u001b[0m\n\u001b[1;32m      1\u001b[0m pAuB \u001b[38;5;241m=\u001b[39m \u001b[38;5;28mround\u001b[39m((pA \u001b[38;5;241m+\u001b[39m pB \u001b[38;5;241m-\u001b[39m pAiB), \u001b[38;5;241m2\u001b[39m)\n\u001b[0;32m----> 2\u001b[0m \u001b[38;5;28;01massert\u001b[39;00m pAuB \u001b[38;5;241m==\u001b[39m \u001b[38;5;241m0.6\u001b[39m, \u001b[38;5;124mf\u001b[39m\u001b[38;5;124m\"\u001b[39m\u001b[38;5;124m2. Statement False, pAuB = \u001b[39m\u001b[38;5;132;01m{\u001b[39;00mpAuB\u001b[38;5;132;01m}\u001b[39;00m\u001b[38;5;124m\"\u001b[39m\n",
      "\u001b[0;31mAssertionError\u001b[0m: 2. Statement False, pAuB = 0.8"
     ]
    }
   ],
   "source": [
    "pAuB = round((pA + pB - pAiB), 2)\n",
    "assert pAuB == 0.6, f\"2. Statement False, pAuB = {pAuB}\""
   ]
  },
  {
   "cell_type": "code",
   "execution_count": 46,
   "metadata": {},
   "outputs": [],
   "source": [
    "pAiBc = round(pAiBc, 2)\n",
    "assert pAiBc == 0.2, f\"3. Statement False, pAiBc = {pAiBc}\""
   ]
  },
  {
   "cell_type": "code",
   "execution_count": 49,
   "metadata": {},
   "outputs": [],
   "source": [
    "pAiBc = round((pA + pAc), 2)\n",
    "assert pAiBc == 1, f\"4. Statement False, pAiBc = {pAiBc}\""
   ]
  },
  {
   "cell_type": "markdown",
   "metadata": {},
   "source": [
    "## Reto 4\n",
    "\n",
    "* Si alguien viaja a China, la probabilidad de contraer Covid es del 1%\n",
    "* Si alguien viaja a Italia, la probabilidad de contraer Covid es del 20%\n",
    "\n",
    "Lanzo un dado con números 1, 2, 3, 4, 5, 6:\n",
    "* Si sale 1: Vuelo a Italia\n",
    "* Si no sale 1: Vuelo a China\n",
    "\n",
    "Durante mi viaje, contraje Covid. ¿Cuál es la probabilidad de que haya volado a China?"
   ]
  },
  {
   "cell_type": "code",
   "execution_count": 31,
   "metadata": {},
   "outputs": [
    {
     "data": {
      "text/plain": [
       "0.2"
      ]
     },
     "execution_count": 31,
     "metadata": {},
     "output_type": "execute_result"
    }
   ],
   "source": [
    "# YOUR CODE HERE\n",
    "p_v_china = 5 / 6\n",
    "p_v_italia = 1 / 6\n",
    "\n",
    "p_c_china = 0.01\n",
    "p_c_italia = 0.2\n",
    "\n",
    "p_c = (p_v_china * p_c_china ) + (p_v_italia * p_c_italia)\n",
    "\n",
    "p_v_c_china = p_v_china * p_c_china / p_c\n",
    "p_v_c_china"
   ]
  },
  {
   "cell_type": "markdown",
   "metadata": {},
   "source": [
    "## BONUS\n",
    "\n",
    "Lanzas 2 dados. ¿Cuál es la probabilidad de que la suma de los números sea 7? ¿Y 8? ¿Y 9? Luego simula 10000 veces y dibuja un gráfico de conteo.\n",
    "\n",
    "tu explicación aquí"
   ]
  },
  {
   "cell_type": "code",
   "execution_count": null,
   "metadata": {},
   "outputs": [],
   "source": [
    "# YOUR CODE HERE"
   ]
  }
 ],
 "metadata": {
  "kernelspec": {
   "display_name": "Python 3 (ipykernel)",
   "language": "python",
   "name": "python3"
  },
  "language_info": {
   "codemirror_mode": {
    "name": "ipython",
    "version": 3
   },
   "file_extension": ".py",
   "mimetype": "text/x-python",
   "name": "python",
   "nbconvert_exporter": "python",
   "pygments_lexer": "ipython3",
   "version": "3.12.4"
  },
  "toc": {
   "base_numbering": 1,
   "nav_menu": {},
   "number_sections": false,
   "sideBar": true,
   "skip_h1_title": false,
   "title_cell": "Table of Contents",
   "title_sidebar": "Contents",
   "toc_cell": false,
   "toc_position": {
    "height": "calc(100% - 180px)",
    "left": "10px",
    "top": "150px",
    "width": "296.475px"
   },
   "toc_section_display": true,
   "toc_window_display": false
  },
  "varInspector": {
   "cols": {
    "lenName": 16,
    "lenType": 16,
    "lenVar": 40
   },
   "kernels_config": {
    "python": {
     "delete_cmd_postfix": "",
     "delete_cmd_prefix": "del ",
     "library": "var_list.py",
     "varRefreshCmd": "print(var_dic_list())"
    },
    "r": {
     "delete_cmd_postfix": ") ",
     "delete_cmd_prefix": "rm(",
     "library": "var_list.r",
     "varRefreshCmd": "cat(var_dic_list()) "
    }
   },
   "types_to_exclude": [
    "module",
    "function",
    "builtin_function_or_method",
    "instance",
    "_Feature"
   ],
   "window_display": false
  }
 },
 "nbformat": 4,
 "nbformat_minor": 4
}
